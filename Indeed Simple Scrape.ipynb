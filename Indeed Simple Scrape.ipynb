{
 "cells": [
  {
   "cell_type": "code",
   "execution_count": 1,
   "metadata": {},
   "outputs": [],
   "source": [
    "import requests\n",
    "from bs4 import BeautifulSoup"
   ]
  },
  {
   "cell_type": "code",
   "execution_count": 2,
   "metadata": {},
   "outputs": [],
   "source": [
    "page = requests.get('https://www.indeed.com/q-python-l-new-york-jobs.html?vjk=663ee3e9ba27e32c')"
   ]
  },
  {
   "cell_type": "code",
   "execution_count": 3,
   "metadata": {},
   "outputs": [],
   "source": [
    "page_2 = requests.get('https://www.indeed.com/jobs?q=python&l=new%20york&start=20&vjk=44b24b7b2512a3b3')"
   ]
  },
  {
   "cell_type": "code",
   "execution_count": 4,
   "metadata": {},
   "outputs": [],
   "source": [
    "def get_jobs(title, location, page=1):\n",
    "    \"\"\"Fetches the HTML from a search for Python jobs in New York on Indeed.com from a specified page.\"\"\"\n",
    "    loc = location.replace(' ', '+')  # for multi-part locations\n",
    "    base_url_indeed = f'https://www.indeed.com/jobs?q={title}&l={loc}&start='\n",
    "    results_start_num = page*10\n",
    "    url = f'{base_url_indeed}{results_start_num}'\n",
    "    print(url)\n",
    "    page = requests.get(url)\n",
    "    return page"
   ]
  },
  {
   "cell_type": "code",
   "execution_count": 5,
   "metadata": {},
   "outputs": [
    {
     "output_type": "stream",
     "name": "stdout",
     "text": [
      "https://www.indeed.com/jobs?q=python&l=new+york&start=10\n"
     ]
    }
   ],
   "source": [
    "site = get_jobs('python', 'new york')"
   ]
  },
  {
   "cell_type": "code",
   "execution_count": 18,
   "metadata": {},
   "outputs": [],
   "source": [
    "Indeed_jobs={}"
   ]
  },
  {
   "cell_type": "code",
   "execution_count": 7,
   "metadata": {},
   "outputs": [],
   "source": [
    "soup = BeautifulSoup(site.content)"
   ]
  },
  {
   "cell_type": "code",
   "execution_count": 8,
   "metadata": {},
   "outputs": [],
   "source": [
    "results = soup.find(id='resultsCol')"
   ]
  },
  {
   "cell_type": "code",
   "execution_count": 26,
   "metadata": {
    "tags": []
   },
   "outputs": [],
   "source": [
    "jobs = results.find_all('div', class_='mosaic-provider-jobcards')"
   ]
  },
  {
   "cell_type": "code",
   "execution_count": 71,
   "metadata": {
    "tags": []
   },
   "outputs": [],
   "source": [
    "for job in jobs:\n",
    "    Job_title=job.find_all('h2',class_='jobTitle jobTitle-color-purple')\n",
    "    Company_Location=job.find_all('div',class_='companyLocation')\n",
    "    Company_Name=job.find_all('span',class_='companyName')"
   ]
  },
  {
   "cell_type": "code",
   "execution_count": 82,
   "metadata": {},
   "outputs": [
    {
     "output_type": "stream",
     "name": "stdout",
     "text": [
      "Luxoft\nPython developer\nNew York, NY 10006 (Financial District area)\n------------------\nBooz Allen Hamilton\nSoftware Engineer, Mid\nRome, NY 13441•Remote\n------------------\nHinge\nData Scientist\nNew York, NY 10010 (Park Slope area)\n------------------\nCredit Suisse\nSoftware Quality Engineer, Apple Pay\nNew York, NY\n------------------\nJPMorgan Chase Bank, N.A.\nCredit ETF Trader\nNew York, NY\n------------------\nApple\nConsultant, IT Network Development\nNew York, NY\n------------------\nBarclays\nSoftware Developer\nNew York, NY 10019 (Midtown area)\n------------------\nDell Technologies\nUnauthorized Trading Surveillance Officer\nFlorida, NY\n------------------\nJPMorgan Chase Bank, N.A.\nResearch Staff Member, Cryogenic Components\nNew York, NY\n------------------\nJPMorgan Chase Bank, N.A.\nDirector of Planning and Analysis\nNew York, NY\n------------------\nMSC Industrial Supply\nData Scientist, Mid\nMelville, NY•Remote\n------------------\n"
     ]
    }
   ],
   "source": [
    "for title,name,location in zip(Job_title,Company_Name,Company_Location):\n",
    "    print(name.find('a').text)\n",
    "    print(title.text)\n",
    "    print(location.text)\n",
    "    print(\"------------------\")"
   ]
  },
  {
   "cell_type": "code",
   "execution_count": null,
   "metadata": {},
   "outputs": [],
   "source": []
  }
 ],
 "metadata": {
  "kernelspec": {
   "name": "python3",
   "display_name": "Python 3.9.2 64-bit"
  },
  "language_info": {
   "codemirror_mode": {
    "name": "ipython",
    "version": 3
   },
   "file_extension": ".py",
   "mimetype": "text/x-python",
   "name": "python",
   "nbconvert_exporter": "python",
   "pygments_lexer": "ipython3",
   "version": "3.9.2"
  },
  "interpreter": {
   "hash": "ac59ebe37160ed0dfa835113d9b8498d9f09ceb179beaac4002f036b9467c963"
  }
 },
 "nbformat": 4,
 "nbformat_minor": 4
}