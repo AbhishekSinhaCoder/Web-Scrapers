{
 "cells": [
  {
   "cell_type": "code",
   "execution_count": 1,
   "metadata": {},
   "outputs": [],
   "source": [
    "from selenium import webdriver\n",
    "import pandas as pd \n",
    "import time "
   ]
  },
  {
   "cell_type": "markdown",
   "metadata": {},
   "source": [
    "### Set Up"
   ]
  },
  {
   "cell_type": "code",
   "execution_count": 2,
   "metadata": {},
   "outputs": [],
   "source": [
    "driver = webdriver.Chrome(r'chromedriver.exe')\n",
    "\n",
    "driver.get('https://www.yelp.com/search?find_desc=dentists&find_loc=San+Francisco%2C+CA&ns=1')\n",
    "\n",
    "driver.maximize_window()\n",
    "time.sleep(1)"
   ]
  },
  {
   "cell_type": "markdown",
   "metadata": {},
   "source": [
    "### Accept Cookies"
   ]
  },
  {
   "cell_type": "code",
   "execution_count": 4,
   "metadata": {},
   "outputs": [],
   "source": [
    "# names\n",
    "names =driver.find_elements_by_xpath('//h4[@class=\"css-1l5lt1i\"]/span/a')\n",
    "\n",
    "# telephone\n",
    "telephone = driver.find_elements_by_xpath('//div[@class=\" container__09f24__2th0K padding-l2__09f24__1jCR9 border-color--default__09f24__3Epto text-align--right__09f24__2w_vG\"]/div/div/div/p')\n",
    "\n",
    "# address\n",
    "address = driver.find_elements_by_xpath('//address//span[@class=\" raw__09f24__3Azrj\"]')\n",
    "\n",
    "# expertise\n",
    "expertise = driver.find_elements_by_xpath('//div[@class=\" border-color--default__09f24__3Epto\"]/div/div/div/p')\n",
    "\n",
    "# stars\n",
    "stars = driver.find_elements_by_xpath('//div[@class=\" attribute__09f24__1La1D display--inline-block__09f24__3SvIn margin-r1__09f24__3PebR border-color--default__09f24__3Epto\"]/span/div')\n",
    "\n",
    "# rating count\n",
    "rating_count = driver.find_elements_by_xpath('//span[@class=\"reviewCount__09f24__3GsGY css-e81eai\"]')"
   ]
  },
  {
   "cell_type": "code",
   "execution_count": 5,
   "metadata": {},
   "outputs": [
    {
     "name": "stdout",
     "output_type": "stream",
     "text": [
      "444\n",
      "227\n",
      "343\n",
      "118\n",
      "67\n",
      "111\n",
      "108\n",
      "79\n",
      "95\n",
      "132\n"
     ]
    }
   ],
   "source": [
    "for r in rating_count:\n",
    "    print(r.text)\n",
    "\n",
    "\n",
    "# for s in stars:\n",
    "#     print(s.get_attribute('aria-label'))"
   ]
  },
  {
   "cell_type": "markdown",
   "metadata": {},
   "source": [
    "### Create Dataframe"
   ]
  },
  {
   "cell_type": "code",
   "execution_count": 6,
   "metadata": {},
   "outputs": [],
   "source": [
    "dentist_example = pd.DataFrame(columns=['Name', 'Phone', 'Address'])"
   ]
  },
  {
   "cell_type": "code",
   "execution_count": 7,
   "metadata": {},
   "outputs": [
    {
     "data": {
      "text/html": [
       "<div>\n",
       "<style scoped>\n",
       "    .dataframe tbody tr th:only-of-type {\n",
       "        vertical-align: middle;\n",
       "    }\n",
       "\n",
       "    .dataframe tbody tr th {\n",
       "        vertical-align: top;\n",
       "    }\n",
       "\n",
       "    .dataframe thead th {\n",
       "        text-align: right;\n",
       "    }\n",
       "</style>\n",
       "<table border=\"1\" class=\"dataframe\">\n",
       "  <thead>\n",
       "    <tr style=\"text-align: right;\">\n",
       "      <th></th>\n",
       "      <th>Name</th>\n",
       "      <th>Phone</th>\n",
       "      <th>Address</th>\n",
       "    </tr>\n",
       "  </thead>\n",
       "  <tbody>\n",
       "  </tbody>\n",
       "</table>\n",
       "</div>"
      ],
      "text/plain": [
       "Empty DataFrame\n",
       "Columns: [Name, Phone, Address]\n",
       "Index: []"
      ]
     },
     "execution_count": 7,
     "metadata": {},
     "output_type": "execute_result"
    }
   ],
   "source": [
    "dentist_example"
   ]
  },
  {
   "cell_type": "code",
   "execution_count": 8,
   "metadata": {},
   "outputs": [],
   "source": [
    "names_list = []\n",
    "phone_list = []\n",
    "address_list = []\n",
    "expertise_list =[]\n",
    "stars_list = []\n",
    "rating_count_list = []"
   ]
  },
  {
   "cell_type": "markdown",
   "metadata": {},
   "source": [
    "### Loop and Append to List"
   ]
  },
  {
   "cell_type": "code",
   "execution_count": 9,
   "metadata": {},
   "outputs": [],
   "source": [
    "for n in names:\n",
    "    names_list.append(n.text)\n",
    "    \n",
    "for t in telephone:\n",
    "    phone_list.append(t.text)\n",
    "\n",
    "for a in address:\n",
    "    address_list.append(a.text)\n",
    "    \n",
    "for e in expertise:\n",
    "    expertise_list.append(e.text)\n",
    "\n",
    "for s in stars:\n",
    "    stars_list.append(s.get_attribute('aria-label'))\n",
    "\n",
    "for r in rating_count:\n",
    "    rating_count_list.append(r.text)   "
   ]
  },
  {
   "cell_type": "markdown",
   "metadata": {},
   "source": [
    "### Dictionary"
   ]
  },
  {
   "cell_type": "code",
   "execution_count": 10,
   "metadata": {},
   "outputs": [],
   "source": [
    "dent_dictionary = {'Name': names_list, 'Phone': phone_list, 'Address': address_list, 'Expertise': expertise_list,\n",
    "                  'Stars': stars_list, 'Rating_Count': rating_count_list}"
   ]
  },
  {
   "cell_type": "markdown",
   "metadata": {},
   "source": [
    "### Dictionary to Pandas Dataframe"
   ]
  },
  {
   "cell_type": "code",
   "execution_count": 11,
   "metadata": {},
   "outputs": [],
   "source": [
    "df = pd.DataFrame.from_dict (dent_dictionary)"
   ]
  },
  {
   "cell_type": "code",
   "execution_count": 12,
   "metadata": {},
   "outputs": [
    {
     "data": {
      "text/html": [
       "<div>\n",
       "<style scoped>\n",
       "    .dataframe tbody tr th:only-of-type {\n",
       "        vertical-align: middle;\n",
       "    }\n",
       "\n",
       "    .dataframe tbody tr th {\n",
       "        vertical-align: top;\n",
       "    }\n",
       "\n",
       "    .dataframe thead th {\n",
       "        text-align: right;\n",
       "    }\n",
       "</style>\n",
       "<table border=\"1\" class=\"dataframe\">\n",
       "  <thead>\n",
       "    <tr style=\"text-align: right;\">\n",
       "      <th></th>\n",
       "      <th>Name</th>\n",
       "      <th>Phone</th>\n",
       "      <th>Address</th>\n",
       "      <th>Expertise</th>\n",
       "      <th>Stars</th>\n",
       "      <th>Rating_Count</th>\n",
       "    </tr>\n",
       "  </thead>\n",
       "  <tbody>\n",
       "    <tr>\n",
       "      <th>0</th>\n",
       "      <td>All Smiles Dental</td>\n",
       "      <td>(415) 564-2200</td>\n",
       "      <td>156 W Portal Ave</td>\n",
       "      <td>General Dentistry, Endodontists, Orthodontists</td>\n",
       "      <td>5 star rating</td>\n",
       "      <td>444</td>\n",
       "    </tr>\n",
       "    <tr>\n",
       "      <th>1</th>\n",
       "      <td>Josh Berd, DDS - The Dentist Group</td>\n",
       "      <td>(415) 706-7687</td>\n",
       "      <td>90 Gough St</td>\n",
       "      <td>Cosmetic Dentists, General Dentistry, Orthodon...</td>\n",
       "      <td>4.5 star rating</td>\n",
       "      <td>227</td>\n",
       "    </tr>\n",
       "    <tr>\n",
       "      <th>2</th>\n",
       "      <td>San Francisco Dental Artistry</td>\n",
       "      <td>(415) 399-0609</td>\n",
       "      <td>369 Pine St</td>\n",
       "      <td>General Dentistry, Cosmetic Dentists</td>\n",
       "      <td>5 star rating</td>\n",
       "      <td>343</td>\n",
       "    </tr>\n",
       "    <tr>\n",
       "      <th>3</th>\n",
       "      <td>David T Ho, DDS</td>\n",
       "      <td>(415) 563-2700</td>\n",
       "      <td>1500 Bush St</td>\n",
       "      <td>General Dentistry</td>\n",
       "      <td>5 star rating</td>\n",
       "      <td>118</td>\n",
       "    </tr>\n",
       "    <tr>\n",
       "      <th>4</th>\n",
       "      <td>Michael J Perona, DDS</td>\n",
       "      <td>(415) 546-7990</td>\n",
       "      <td>188 Spear St</td>\n",
       "      <td>General Dentistry, Cosmetic Dentists, Orthodon...</td>\n",
       "      <td>5 star rating</td>\n",
       "      <td>67</td>\n",
       "    </tr>\n",
       "    <tr>\n",
       "      <th>5</th>\n",
       "      <td>Robert Phong Ho, DDS</td>\n",
       "      <td>(415) 386-0666</td>\n",
       "      <td>307 12th Ave</td>\n",
       "      <td>General Dentistry</td>\n",
       "      <td>5 star rating</td>\n",
       "      <td>111</td>\n",
       "    </tr>\n",
       "    <tr>\n",
       "      <th>6</th>\n",
       "      <td>Aesthetic Dentistry of Noe Valley</td>\n",
       "      <td>(415) 285-7007</td>\n",
       "      <td>4162 24th St</td>\n",
       "      <td>Verified LicenseCosmetic Dentists, General Den...</td>\n",
       "      <td>4.5 star rating</td>\n",
       "      <td>108</td>\n",
       "    </tr>\n",
       "    <tr>\n",
       "      <th>7</th>\n",
       "      <td>Zen Dental Studio</td>\n",
       "      <td>(415) 857-0150</td>\n",
       "      <td>254 5th St</td>\n",
       "      <td>General Dentistry, Cosmetic Dentists, Orthodon...</td>\n",
       "      <td>5 star rating</td>\n",
       "      <td>79</td>\n",
       "    </tr>\n",
       "    <tr>\n",
       "      <th>8</th>\n",
       "      <td>Lakeside Dental Care</td>\n",
       "      <td>(415) 469-7777</td>\n",
       "      <td>2645 Ocean Ave</td>\n",
       "      <td>General Dentistry</td>\n",
       "      <td>5 star rating</td>\n",
       "      <td>95</td>\n",
       "    </tr>\n",
       "    <tr>\n",
       "      <th>9</th>\n",
       "      <td>Elias Qaré, DDS</td>\n",
       "      <td>(415) 282-5340</td>\n",
       "      <td>2480 Mission St</td>\n",
       "      <td>General Dentistry</td>\n",
       "      <td>5 star rating</td>\n",
       "      <td>132</td>\n",
       "    </tr>\n",
       "  </tbody>\n",
       "</table>\n",
       "</div>"
      ],
      "text/plain": [
       "                                 Name           Phone           Address  \\\n",
       "0                   All Smiles Dental  (415) 564-2200  156 W Portal Ave   \n",
       "1  Josh Berd, DDS - The Dentist Group  (415) 706-7687       90 Gough St   \n",
       "2       San Francisco Dental Artistry  (415) 399-0609       369 Pine St   \n",
       "3                     David T Ho, DDS  (415) 563-2700      1500 Bush St   \n",
       "4               Michael J Perona, DDS  (415) 546-7990      188 Spear St   \n",
       "5                Robert Phong Ho, DDS  (415) 386-0666      307 12th Ave   \n",
       "6   Aesthetic Dentistry of Noe Valley  (415) 285-7007      4162 24th St   \n",
       "7                   Zen Dental Studio  (415) 857-0150        254 5th St   \n",
       "8                Lakeside Dental Care  (415) 469-7777    2645 Ocean Ave   \n",
       "9                     Elias Qaré, DDS  (415) 282-5340   2480 Mission St   \n",
       "\n",
       "                                           Expertise            Stars  \\\n",
       "0     General Dentistry, Endodontists, Orthodontists    5 star rating   \n",
       "1  Cosmetic Dentists, General Dentistry, Orthodon...  4.5 star rating   \n",
       "2               General Dentistry, Cosmetic Dentists    5 star rating   \n",
       "3                                  General Dentistry    5 star rating   \n",
       "4  General Dentistry, Cosmetic Dentists, Orthodon...    5 star rating   \n",
       "5                                  General Dentistry    5 star rating   \n",
       "6  Verified LicenseCosmetic Dentists, General Den...  4.5 star rating   \n",
       "7  General Dentistry, Cosmetic Dentists, Orthodon...    5 star rating   \n",
       "8                                  General Dentistry    5 star rating   \n",
       "9                                  General Dentistry    5 star rating   \n",
       "\n",
       "  Rating_Count  \n",
       "0          444  \n",
       "1          227  \n",
       "2          343  \n",
       "3          118  \n",
       "4           67  \n",
       "5          111  \n",
       "6          108  \n",
       "7           79  \n",
       "8           95  \n",
       "9          132  "
      ]
     },
     "execution_count": 12,
     "metadata": {},
     "output_type": "execute_result"
    }
   ],
   "source": [
    "# dataframe before cleaning\n",
    "df "
   ]
  },
  {
   "cell_type": "markdown",
   "metadata": {},
   "source": [
    "### Clean the Data"
   ]
  },
  {
   "cell_type": "code",
   "execution_count": 13,
   "metadata": {},
   "outputs": [],
   "source": [
    "df['Stars'] = df['Stars'].apply(lambda x: x.replace('star rating', ''))"
   ]
  },
  {
   "cell_type": "code",
   "execution_count": 14,
   "metadata": {},
   "outputs": [
    {
     "data": {
      "text/html": [
       "<div>\n",
       "<style scoped>\n",
       "    .dataframe tbody tr th:only-of-type {\n",
       "        vertical-align: middle;\n",
       "    }\n",
       "\n",
       "    .dataframe tbody tr th {\n",
       "        vertical-align: top;\n",
       "    }\n",
       "\n",
       "    .dataframe thead th {\n",
       "        text-align: right;\n",
       "    }\n",
       "</style>\n",
       "<table border=\"1\" class=\"dataframe\">\n",
       "  <thead>\n",
       "    <tr style=\"text-align: right;\">\n",
       "      <th></th>\n",
       "      <th>Name</th>\n",
       "      <th>Phone</th>\n",
       "      <th>Address</th>\n",
       "      <th>Expertise</th>\n",
       "      <th>Stars</th>\n",
       "      <th>Rating_Count</th>\n",
       "    </tr>\n",
       "  </thead>\n",
       "  <tbody>\n",
       "    <tr>\n",
       "      <th>0</th>\n",
       "      <td>All Smiles Dental</td>\n",
       "      <td>(415) 564-2200</td>\n",
       "      <td>156 W Portal Ave</td>\n",
       "      <td>General Dentistry, Endodontists, Orthodontists</td>\n",
       "      <td>5</td>\n",
       "      <td>444</td>\n",
       "    </tr>\n",
       "    <tr>\n",
       "      <th>1</th>\n",
       "      <td>Josh Berd, DDS - The Dentist Group</td>\n",
       "      <td>(415) 706-7687</td>\n",
       "      <td>90 Gough St</td>\n",
       "      <td>Cosmetic Dentists, General Dentistry, Orthodon...</td>\n",
       "      <td>4.5</td>\n",
       "      <td>227</td>\n",
       "    </tr>\n",
       "    <tr>\n",
       "      <th>2</th>\n",
       "      <td>San Francisco Dental Artistry</td>\n",
       "      <td>(415) 399-0609</td>\n",
       "      <td>369 Pine St</td>\n",
       "      <td>General Dentistry, Cosmetic Dentists</td>\n",
       "      <td>5</td>\n",
       "      <td>343</td>\n",
       "    </tr>\n",
       "    <tr>\n",
       "      <th>3</th>\n",
       "      <td>David T Ho, DDS</td>\n",
       "      <td>(415) 563-2700</td>\n",
       "      <td>1500 Bush St</td>\n",
       "      <td>General Dentistry</td>\n",
       "      <td>5</td>\n",
       "      <td>118</td>\n",
       "    </tr>\n",
       "    <tr>\n",
       "      <th>4</th>\n",
       "      <td>Michael J Perona, DDS</td>\n",
       "      <td>(415) 546-7990</td>\n",
       "      <td>188 Spear St</td>\n",
       "      <td>General Dentistry, Cosmetic Dentists, Orthodon...</td>\n",
       "      <td>5</td>\n",
       "      <td>67</td>\n",
       "    </tr>\n",
       "    <tr>\n",
       "      <th>5</th>\n",
       "      <td>Robert Phong Ho, DDS</td>\n",
       "      <td>(415) 386-0666</td>\n",
       "      <td>307 12th Ave</td>\n",
       "      <td>General Dentistry</td>\n",
       "      <td>5</td>\n",
       "      <td>111</td>\n",
       "    </tr>\n",
       "    <tr>\n",
       "      <th>6</th>\n",
       "      <td>Aesthetic Dentistry of Noe Valley</td>\n",
       "      <td>(415) 285-7007</td>\n",
       "      <td>4162 24th St</td>\n",
       "      <td>Verified LicenseCosmetic Dentists, General Den...</td>\n",
       "      <td>4.5</td>\n",
       "      <td>108</td>\n",
       "    </tr>\n",
       "    <tr>\n",
       "      <th>7</th>\n",
       "      <td>Zen Dental Studio</td>\n",
       "      <td>(415) 857-0150</td>\n",
       "      <td>254 5th St</td>\n",
       "      <td>General Dentistry, Cosmetic Dentists, Orthodon...</td>\n",
       "      <td>5</td>\n",
       "      <td>79</td>\n",
       "    </tr>\n",
       "    <tr>\n",
       "      <th>8</th>\n",
       "      <td>Lakeside Dental Care</td>\n",
       "      <td>(415) 469-7777</td>\n",
       "      <td>2645 Ocean Ave</td>\n",
       "      <td>General Dentistry</td>\n",
       "      <td>5</td>\n",
       "      <td>95</td>\n",
       "    </tr>\n",
       "    <tr>\n",
       "      <th>9</th>\n",
       "      <td>Elias Qaré, DDS</td>\n",
       "      <td>(415) 282-5340</td>\n",
       "      <td>2480 Mission St</td>\n",
       "      <td>General Dentistry</td>\n",
       "      <td>5</td>\n",
       "      <td>132</td>\n",
       "    </tr>\n",
       "  </tbody>\n",
       "</table>\n",
       "</div>"
      ],
      "text/plain": [
       "                                 Name           Phone           Address  \\\n",
       "0                   All Smiles Dental  (415) 564-2200  156 W Portal Ave   \n",
       "1  Josh Berd, DDS - The Dentist Group  (415) 706-7687       90 Gough St   \n",
       "2       San Francisco Dental Artistry  (415) 399-0609       369 Pine St   \n",
       "3                     David T Ho, DDS  (415) 563-2700      1500 Bush St   \n",
       "4               Michael J Perona, DDS  (415) 546-7990      188 Spear St   \n",
       "5                Robert Phong Ho, DDS  (415) 386-0666      307 12th Ave   \n",
       "6   Aesthetic Dentistry of Noe Valley  (415) 285-7007      4162 24th St   \n",
       "7                   Zen Dental Studio  (415) 857-0150        254 5th St   \n",
       "8                Lakeside Dental Care  (415) 469-7777    2645 Ocean Ave   \n",
       "9                     Elias Qaré, DDS  (415) 282-5340   2480 Mission St   \n",
       "\n",
       "                                           Expertise Stars Rating_Count  \n",
       "0     General Dentistry, Endodontists, Orthodontists    5           444  \n",
       "1  Cosmetic Dentists, General Dentistry, Orthodon...  4.5           227  \n",
       "2               General Dentistry, Cosmetic Dentists    5           343  \n",
       "3                                  General Dentistry    5           118  \n",
       "4  General Dentistry, Cosmetic Dentists, Orthodon...    5            67  \n",
       "5                                  General Dentistry    5           111  \n",
       "6  Verified LicenseCosmetic Dentists, General Den...  4.5           108  \n",
       "7  General Dentistry, Cosmetic Dentists, Orthodon...    5            79  \n",
       "8                                  General Dentistry    5            95  \n",
       "9                                  General Dentistry    5           132  "
      ]
     },
     "execution_count": 14,
     "metadata": {},
     "output_type": "execute_result"
    }
   ],
   "source": [
    "# dataframe after cleaning\n",
    "df "
   ]
  },
  {
   "cell_type": "markdown",
   "metadata": {},
   "source": [
    "### Save Data in Excel"
   ]
  },
  {
   "cell_type": "code",
   "execution_count": 15,
   "metadata": {},
   "outputs": [],
   "source": [
    "df.to_excel('data_done.xlsx', index= False)"
   ]
  }
 ],
 "metadata": {
  "kernelspec": {
   "display_name": "Python 3",
   "language": "python",
   "name": "python3"
  },
  "language_info": {
   "codemirror_mode": {
    "name": "ipython",
    "version": 3
   },
   "file_extension": ".py",
   "mimetype": "text/x-python",
   "name": "python",
   "nbconvert_exporter": "python",
   "pygments_lexer": "ipython3",
   "version": "3.8.5"
  }
 },
 "nbformat": 4,
 "nbformat_minor": 4
}
